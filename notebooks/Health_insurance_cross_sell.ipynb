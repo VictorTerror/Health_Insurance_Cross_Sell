{
 "cells": [
  {
   "cell_type": "markdown",
   "id": "18727f24",
   "metadata": {},
   "source": [
    "# 0.0. IMPORTS"
   ]
  },
  {
   "cell_type": "code",
   "execution_count": 1,
   "id": "dbfc535e",
   "metadata": {
    "ExecuteTime": {
     "end_time": "2021-10-14T12:50:02.928859Z",
     "start_time": "2021-10-14T12:50:01.765709Z"
    }
   },
   "outputs": [],
   "source": [
    "import pandas   as pd\n",
    "import numpy    as np\n",
    "import psycopg2 as pg\n",
    "import seaborn  as sns\n",
    "\n",
    "\n",
    "import pandas.io.sql          as psql\n",
    "from matplotlib import pyplot as plt\n",
    "\n",
    "from IPython.core.display  import HTML\n",
    "\n",
    "import warnings"
   ]
  },
  {
   "cell_type": "markdown",
   "id": "fa7beffb",
   "metadata": {},
   "source": [
    "## 0.1. Helper Functions"
   ]
  },
  {
   "cell_type": "code",
   "execution_count": 67,
   "id": "090cda31",
   "metadata": {
    "ExecuteTime": {
     "end_time": "2021-10-15T01:43:49.878051Z",
     "start_time": "2021-10-15T01:43:49.856736Z"
    }
   },
   "outputs": [],
   "source": [
    "def jupyter_settings():\n",
    "    %matplotlib inline\n",
    "    %pylab inline\n",
    "    \n",
    "    plt.style.use( 'bmh' )\n",
    "    plt.rcParams['figure.figsize'] = [25, 12]\n",
    "    plt.rcParams['font.size'] = 24\n",
    "    \n",
    "    display( HTML( '<style>.container { width:100% !important; }</style>') )\n",
    "    pd.options.display.max_columns = None\n",
    "    pd.options.display.max_rows = None\n",
    "    pd.set_option( 'display.expand_frame_repr', False )\n",
    "    \n",
    "    sns.set()\n",
    "    \n",
    "    \n",
    "warnings.filterwarnings( 'ignore' )\n",
    "pd.options.display.float_format = '{:.2f}'.format"
   ]
  },
  {
   "cell_type": "code",
   "execution_count": 68,
   "id": "a48358af",
   "metadata": {
    "ExecuteTime": {
     "end_time": "2021-10-15T01:43:50.565016Z",
     "start_time": "2021-10-15T01:43:50.542315Z"
    }
   },
   "outputs": [
    {
     "name": "stdout",
     "output_type": "stream",
     "text": [
      "Populating the interactive namespace from numpy and matplotlib\n"
     ]
    },
    {
     "data": {
      "text/html": [
       "<style>.container { width:100% !important; }</style>"
      ],
      "text/plain": [
       "<IPython.core.display.HTML object>"
      ]
     },
     "metadata": {},
     "output_type": "display_data"
    }
   ],
   "source": [
    "jupyter_settings()"
   ]
  },
  {
   "cell_type": "markdown",
   "id": "e861620f",
   "metadata": {},
   "source": [
    "## 0.2. Loading Data"
   ]
  },
  {
   "cell_type": "code",
   "execution_count": 4,
   "id": "356f753f",
   "metadata": {
    "ExecuteTime": {
     "end_time": "2021-10-14T12:50:03.817301Z",
     "start_time": "2021-10-14T12:50:02.952992Z"
    }
   },
   "outputs": [],
   "source": [
    "# Credentials\n",
    "host =     'comunidade-ds-postgres.c50pcakiuwi3.us-east-1.rds.amazonaws.com'\n",
    "port =      5432\n",
    "database = 'comunidadedsdb'\n",
    "username = 'member'\n",
    "pwd =      'cdspa'\n",
    "\n",
    "\n",
    "\n",
    "# Connecting to database\n",
    "conn = pg.connect(  user=username,\n",
    "                    password=pwd,\n",
    "                    host=host,\n",
    "                    port=port,\n",
    "                    database=database )\n",
    "\n",
    "\n",
    "\n",
    "cursor = conn.cursor()"
   ]
  },
  {
   "cell_type": "code",
   "execution_count": 5,
   "id": "9cdd993d",
   "metadata": {
    "ExecuteTime": {
     "end_time": "2021-10-14T12:50:04.090675Z",
     "start_time": "2021-10-14T12:50:03.818372Z"
    }
   },
   "outputs": [
    {
     "name": "stdout",
     "output_type": "stream",
     "text": [
      "[('pg_toast',), ('pg_temp_1',), ('pg_toast_temp_1',), ('pg_catalog',), ('information_schema',), ('public',), ('pa004',), ('pg_temp_4',), ('pg_toast_temp_4',), ('pa005',), ('pg_temp_9',), ('pg_toast_temp_9',)]\n"
     ]
    }
   ],
   "source": [
    "# Query Schemas\n",
    "query_schema = \"\"\"\n",
    "    SELECT nspname\n",
    "    FROM pg_catalog.pg_namespace\n",
    "\"\"\"\n",
    "\n",
    "cursor.execute( query_schema )\n",
    "\n",
    "print(cursor.fetchall())"
   ]
  },
  {
   "cell_type": "code",
   "execution_count": 6,
   "id": "55d45d07",
   "metadata": {
    "ExecuteTime": {
     "end_time": "2021-10-14T12:50:10.870479Z",
     "start_time": "2021-10-14T12:50:04.092205Z"
    }
   },
   "outputs": [],
   "source": [
    "# Query Tables\n",
    "query_tables = \"\"\"\n",
    "SELECT * FROM pa004.users u LEFT JOIN pa004.vehicle v on (u.id = v.id)\n",
    "                            LEFT JOIN pa004.insurance i on (u.id = i.id) \n",
    "\"\"\"\n",
    "\n",
    "# Defining raw dataset\n",
    "df_raw_table = pd.read_sql(query_tables, conn)\n",
    "\n",
    "\n",
    "# Closing cursor and connction\n",
    "cursor.close()\n",
    "conn.close()"
   ]
  },
  {
   "cell_type": "code",
   "execution_count": 7,
   "id": "5f722864",
   "metadata": {
    "ExecuteTime": {
     "end_time": "2021-10-14T12:50:10.883500Z",
     "start_time": "2021-10-14T12:50:10.871550Z"
    }
   },
   "outputs": [
    {
     "data": {
      "text/html": [
       "<div>\n",
       "<style scoped>\n",
       "    .dataframe tbody tr th:only-of-type {\n",
       "        vertical-align: middle;\n",
       "    }\n",
       "\n",
       "    .dataframe tbody tr th {\n",
       "        vertical-align: top;\n",
       "    }\n",
       "\n",
       "    .dataframe thead th {\n",
       "        text-align: right;\n",
       "    }\n",
       "</style>\n",
       "<table border=\"1\" class=\"dataframe\">\n",
       "  <thead>\n",
       "    <tr style=\"text-align: right;\">\n",
       "      <th></th>\n",
       "      <th>id</th>\n",
       "      <th>gender</th>\n",
       "      <th>age</th>\n",
       "      <th>region_code</th>\n",
       "      <th>policy_sales_channel</th>\n",
       "      <th>id</th>\n",
       "      <th>driving_license</th>\n",
       "      <th>vehicle_age</th>\n",
       "      <th>vehicle_damage</th>\n",
       "      <th>id</th>\n",
       "      <th>previously_insured</th>\n",
       "      <th>annual_premium</th>\n",
       "      <th>vintage</th>\n",
       "      <th>response</th>\n",
       "    </tr>\n",
       "  </thead>\n",
       "  <tbody>\n",
       "    <tr>\n",
       "      <th>0</th>\n",
       "      <td>7</td>\n",
       "      <td>Male</td>\n",
       "      <td>23</td>\n",
       "      <td>11.0</td>\n",
       "      <td>152.0</td>\n",
       "      <td>7</td>\n",
       "      <td>1</td>\n",
       "      <td>&lt; 1 Year</td>\n",
       "      <td>Yes</td>\n",
       "      <td>7</td>\n",
       "      <td>0</td>\n",
       "      <td>23367.0</td>\n",
       "      <td>249</td>\n",
       "      <td>0</td>\n",
       "    </tr>\n",
       "    <tr>\n",
       "      <th>1</th>\n",
       "      <td>13</td>\n",
       "      <td>Female</td>\n",
       "      <td>41</td>\n",
       "      <td>15.0</td>\n",
       "      <td>14.0</td>\n",
       "      <td>13</td>\n",
       "      <td>1</td>\n",
       "      <td>1-2 Year</td>\n",
       "      <td>No</td>\n",
       "      <td>13</td>\n",
       "      <td>1</td>\n",
       "      <td>31409.0</td>\n",
       "      <td>221</td>\n",
       "      <td>0</td>\n",
       "    </tr>\n",
       "    <tr>\n",
       "      <th>2</th>\n",
       "      <td>18</td>\n",
       "      <td>Female</td>\n",
       "      <td>25</td>\n",
       "      <td>35.0</td>\n",
       "      <td>152.0</td>\n",
       "      <td>18</td>\n",
       "      <td>1</td>\n",
       "      <td>&lt; 1 Year</td>\n",
       "      <td>No</td>\n",
       "      <td>18</td>\n",
       "      <td>1</td>\n",
       "      <td>46622.0</td>\n",
       "      <td>299</td>\n",
       "      <td>0</td>\n",
       "    </tr>\n",
       "    <tr>\n",
       "      <th>3</th>\n",
       "      <td>31</td>\n",
       "      <td>Female</td>\n",
       "      <td>26</td>\n",
       "      <td>8.0</td>\n",
       "      <td>160.0</td>\n",
       "      <td>31</td>\n",
       "      <td>1</td>\n",
       "      <td>&lt; 1 Year</td>\n",
       "      <td>No</td>\n",
       "      <td>31</td>\n",
       "      <td>0</td>\n",
       "      <td>2630.0</td>\n",
       "      <td>136</td>\n",
       "      <td>0</td>\n",
       "    </tr>\n",
       "    <tr>\n",
       "      <th>4</th>\n",
       "      <td>39</td>\n",
       "      <td>Male</td>\n",
       "      <td>45</td>\n",
       "      <td>8.0</td>\n",
       "      <td>124.0</td>\n",
       "      <td>39</td>\n",
       "      <td>1</td>\n",
       "      <td>1-2 Year</td>\n",
       "      <td>Yes</td>\n",
       "      <td>39</td>\n",
       "      <td>0</td>\n",
       "      <td>42297.0</td>\n",
       "      <td>264</td>\n",
       "      <td>0</td>\n",
       "    </tr>\n",
       "  </tbody>\n",
       "</table>\n",
       "</div>"
      ],
      "text/plain": [
       "   id  gender  age  region_code  policy_sales_channel  id  driving_license vehicle_age vehicle_damage  id  previously_insured  annual_premium  vintage  response\n",
       "0   7    Male   23         11.0                 152.0   7                1    < 1 Year            Yes   7                   0         23367.0      249         0\n",
       "1  13  Female   41         15.0                  14.0  13                1    1-2 Year             No  13                   1         31409.0      221         0\n",
       "2  18  Female   25         35.0                 152.0  18                1    < 1 Year             No  18                   1         46622.0      299         0\n",
       "3  31  Female   26          8.0                 160.0  31                1    < 1 Year             No  31                   0          2630.0      136         0\n",
       "4  39    Male   45          8.0                 124.0  39                1    1-2 Year            Yes  39                   0         42297.0      264         0"
      ]
     },
     "execution_count": 7,
     "metadata": {},
     "output_type": "execute_result"
    }
   ],
   "source": [
    "df_raw_table.head()"
   ]
  },
  {
   "cell_type": "markdown",
   "id": "6094dc68",
   "metadata": {},
   "source": [
    "# 1.0. Data Description"
   ]
  },
  {
   "cell_type": "code",
   "execution_count": 49,
   "id": "7c526a7c",
   "metadata": {
    "ExecuteTime": {
     "end_time": "2021-10-14T16:48:20.658564Z",
     "start_time": "2021-10-14T16:48:20.630494Z"
    }
   },
   "outputs": [],
   "source": [
    "df1 = df_raw_table.copy()"
   ]
  },
  {
   "cell_type": "code",
   "execution_count": 50,
   "id": "4df36086",
   "metadata": {
    "ExecuteTime": {
     "end_time": "2021-10-14T16:48:21.151614Z",
     "start_time": "2021-10-14T16:48:21.140167Z"
    }
   },
   "outputs": [
    {
     "data": {
      "text/plain": [
       "Index(['id', 'gender', 'age', 'region_code', 'policy_sales_channel', 'id',\n",
       "       'driving_license', 'vehicle_age', 'vehicle_damage', 'id',\n",
       "       'previously_insured', 'annual_premium', 'vintage', 'response'],\n",
       "      dtype='object')"
      ]
     },
     "execution_count": 50,
     "metadata": {},
     "output_type": "execute_result"
    }
   ],
   "source": [
    "df1.columns"
   ]
  },
  {
   "cell_type": "code",
   "execution_count": 53,
   "id": "d29710d3",
   "metadata": {
    "ExecuteTime": {
     "end_time": "2021-10-14T16:48:32.573313Z",
     "start_time": "2021-10-14T16:48:32.512355Z"
    }
   },
   "outputs": [],
   "source": [
    "# Removing duplicated columns\n",
    "df1 = df1.loc[:,~df1.columns.duplicated()]"
   ]
  },
  {
   "cell_type": "markdown",
   "id": "80370bf4",
   "metadata": {},
   "source": [
    "## 1.1. Data Dimension"
   ]
  },
  {
   "cell_type": "code",
   "execution_count": 54,
   "id": "ff3b91b5",
   "metadata": {
    "ExecuteTime": {
     "end_time": "2021-10-14T16:48:37.136425Z",
     "start_time": "2021-10-14T16:48:37.133746Z"
    }
   },
   "outputs": [
    {
     "name": "stdout",
     "output_type": "stream",
     "text": [
      "Number of Rows: 381109\n",
      "Number of Columns: 12\n"
     ]
    }
   ],
   "source": [
    "print(f\"Number of Rows: {df1.shape[0]}\")\n",
    "print(f\"Number of Columns: {df1.shape[1]}\")"
   ]
  },
  {
   "cell_type": "markdown",
   "id": "ece21b22",
   "metadata": {},
   "source": [
    "## 1.2. Data Types"
   ]
  },
  {
   "cell_type": "code",
   "execution_count": 19,
   "id": "3584ebde",
   "metadata": {
    "ExecuteTime": {
     "end_time": "2021-10-14T16:32:24.221831Z",
     "start_time": "2021-10-14T16:32:24.208182Z"
    }
   },
   "outputs": [
    {
     "data": {
      "text/plain": [
       "id                        int64\n",
       "gender                   object\n",
       "age                       int64\n",
       "region_code             float64\n",
       "policy_sales_channel    float64\n",
       "id                        int64\n",
       "driving_license           int64\n",
       "vehicle_age              object\n",
       "vehicle_damage           object\n",
       "id                        int64\n",
       "previously_insured        int64\n",
       "annual_premium          float64\n",
       "vintage                   int64\n",
       "response                  int64\n",
       "dtype: object"
      ]
     },
     "execution_count": 19,
     "metadata": {},
     "output_type": "execute_result"
    }
   ],
   "source": [
    "df1.dtypes"
   ]
  },
  {
   "cell_type": "markdown",
   "id": "65064c7b",
   "metadata": {},
   "source": [
    "## 1.3. Check NA"
   ]
  },
  {
   "cell_type": "code",
   "execution_count": 58,
   "id": "0a4f71b5",
   "metadata": {
    "ExecuteTime": {
     "end_time": "2021-10-14T18:39:19.177341Z",
     "start_time": "2021-10-14T18:39:19.088266Z"
    }
   },
   "outputs": [
    {
     "data": {
      "text/plain": [
       "id                      0\n",
       "gender                  0\n",
       "age                     0\n",
       "region_code             0\n",
       "policy_sales_channel    0\n",
       "driving_license         0\n",
       "vehicle_age             0\n",
       "vehicle_damage          0\n",
       "previously_insured      0\n",
       "annual_premium          0\n",
       "vintage                 0\n",
       "response                0\n",
       "dtype: int64"
      ]
     },
     "execution_count": 58,
     "metadata": {},
     "output_type": "execute_result"
    }
   ],
   "source": [
    "df1.isnull().sum()"
   ]
  },
  {
   "cell_type": "markdown",
   "id": "a1ac0f52",
   "metadata": {},
   "source": [
    "## 1.4. Data Descriptive"
   ]
  },
  {
   "cell_type": "code",
   "execution_count": 60,
   "id": "a2e813c0",
   "metadata": {
    "ExecuteTime": {
     "end_time": "2021-10-14T18:43:12.044584Z",
     "start_time": "2021-10-14T18:43:11.984283Z"
    }
   },
   "outputs": [],
   "source": [
    "num_attributes = df1.select_dtypes( include=['int64', 'float64'] )\n",
    "cat_attributes = df1.select_dtypes( exclude=['int64', 'float64', 'datetime64[ns]'] )"
   ]
  },
  {
   "cell_type": "code",
   "execution_count": 69,
   "id": "130b0d92",
   "metadata": {
    "ExecuteTime": {
     "end_time": "2021-10-15T01:43:57.752678Z",
     "start_time": "2021-10-15T01:43:57.162749Z"
    }
   },
   "outputs": [],
   "source": [
    "# Central Tendency - Mean and Median\n",
    "ct1 = pd.DataFrame( num_attributes.apply( np.mean ) ).T\n",
    "ct2 = pd.DataFrame( num_attributes.apply( np.median ) ).T\n",
    "\n",
    "# Dispersion - std, min, max, range, skew, kurtosis\n",
    "d1 = pd.DataFrame( num_attributes.apply( np.std ) ).T\n",
    "d2 = pd.DataFrame( num_attributes.apply( min ) ).T\n",
    "d3 = pd.DataFrame( num_attributes.apply( max ) ).T\n",
    "d4 = pd.DataFrame( num_attributes.apply( lambda x: x.max() - x.min() ) ).T\n",
    "d5 = pd.DataFrame( num_attributes.apply( lambda x: x.skew() ) ).T\n",
    "d6 = pd.DataFrame( num_attributes.apply( lambda x: x.kurtosis() ) ).T\n",
    "\n",
    "# Concatenate\n",
    "m = pd.concat( [d2, d3, d4, ct1, ct2, d1, d5, d6] ).T.reset_index()\n",
    "m.columns = ['attributes', 'min', 'max', 'range', 'mean', 'median', 'std', 'skew', 'kurtosis']"
   ]
  },
  {
   "cell_type": "code",
   "execution_count": 70,
   "id": "23d84bb0",
   "metadata": {
    "ExecuteTime": {
     "end_time": "2021-10-15T01:43:58.221083Z",
     "start_time": "2021-10-15T01:43:58.207961Z"
    }
   },
   "outputs": [
    {
     "data": {
      "text/html": [
       "<div>\n",
       "<style scoped>\n",
       "    .dataframe tbody tr th:only-of-type {\n",
       "        vertical-align: middle;\n",
       "    }\n",
       "\n",
       "    .dataframe tbody tr th {\n",
       "        vertical-align: top;\n",
       "    }\n",
       "\n",
       "    .dataframe thead th {\n",
       "        text-align: right;\n",
       "    }\n",
       "</style>\n",
       "<table border=\"1\" class=\"dataframe\">\n",
       "  <thead>\n",
       "    <tr style=\"text-align: right;\">\n",
       "      <th></th>\n",
       "      <th>attributes</th>\n",
       "      <th>min</th>\n",
       "      <th>max</th>\n",
       "      <th>range</th>\n",
       "      <th>mean</th>\n",
       "      <th>median</th>\n",
       "      <th>std</th>\n",
       "      <th>skew</th>\n",
       "      <th>kurtosis</th>\n",
       "    </tr>\n",
       "  </thead>\n",
       "  <tbody>\n",
       "    <tr>\n",
       "      <th>0</th>\n",
       "      <td>id</td>\n",
       "      <td>1.00</td>\n",
       "      <td>381109.00</td>\n",
       "      <td>381108.00</td>\n",
       "      <td>190555.00</td>\n",
       "      <td>190555.00</td>\n",
       "      <td>110016.69</td>\n",
       "      <td>-0.00</td>\n",
       "      <td>-1.20</td>\n",
       "    </tr>\n",
       "    <tr>\n",
       "      <th>1</th>\n",
       "      <td>age</td>\n",
       "      <td>20.00</td>\n",
       "      <td>85.00</td>\n",
       "      <td>65.00</td>\n",
       "      <td>38.82</td>\n",
       "      <td>36.00</td>\n",
       "      <td>15.51</td>\n",
       "      <td>0.67</td>\n",
       "      <td>-0.57</td>\n",
       "    </tr>\n",
       "    <tr>\n",
       "      <th>2</th>\n",
       "      <td>region_code</td>\n",
       "      <td>0.00</td>\n",
       "      <td>52.00</td>\n",
       "      <td>52.00</td>\n",
       "      <td>26.39</td>\n",
       "      <td>28.00</td>\n",
       "      <td>13.23</td>\n",
       "      <td>-0.12</td>\n",
       "      <td>-0.87</td>\n",
       "    </tr>\n",
       "    <tr>\n",
       "      <th>3</th>\n",
       "      <td>policy_sales_channel</td>\n",
       "      <td>1.00</td>\n",
       "      <td>163.00</td>\n",
       "      <td>162.00</td>\n",
       "      <td>112.03</td>\n",
       "      <td>133.00</td>\n",
       "      <td>54.20</td>\n",
       "      <td>-0.90</td>\n",
       "      <td>-0.97</td>\n",
       "    </tr>\n",
       "    <tr>\n",
       "      <th>4</th>\n",
       "      <td>driving_license</td>\n",
       "      <td>0.00</td>\n",
       "      <td>1.00</td>\n",
       "      <td>1.00</td>\n",
       "      <td>1.00</td>\n",
       "      <td>1.00</td>\n",
       "      <td>0.05</td>\n",
       "      <td>-21.60</td>\n",
       "      <td>464.35</td>\n",
       "    </tr>\n",
       "    <tr>\n",
       "      <th>5</th>\n",
       "      <td>previously_insured</td>\n",
       "      <td>0.00</td>\n",
       "      <td>1.00</td>\n",
       "      <td>1.00</td>\n",
       "      <td>0.46</td>\n",
       "      <td>0.00</td>\n",
       "      <td>0.50</td>\n",
       "      <td>0.17</td>\n",
       "      <td>-1.97</td>\n",
       "    </tr>\n",
       "    <tr>\n",
       "      <th>6</th>\n",
       "      <td>annual_premium</td>\n",
       "      <td>2630.00</td>\n",
       "      <td>540165.00</td>\n",
       "      <td>537535.00</td>\n",
       "      <td>30564.39</td>\n",
       "      <td>31669.00</td>\n",
       "      <td>17213.13</td>\n",
       "      <td>1.77</td>\n",
       "      <td>34.00</td>\n",
       "    </tr>\n",
       "    <tr>\n",
       "      <th>7</th>\n",
       "      <td>vintage</td>\n",
       "      <td>10.00</td>\n",
       "      <td>299.00</td>\n",
       "      <td>289.00</td>\n",
       "      <td>154.35</td>\n",
       "      <td>154.00</td>\n",
       "      <td>83.67</td>\n",
       "      <td>0.00</td>\n",
       "      <td>-1.20</td>\n",
       "    </tr>\n",
       "    <tr>\n",
       "      <th>8</th>\n",
       "      <td>response</td>\n",
       "      <td>0.00</td>\n",
       "      <td>1.00</td>\n",
       "      <td>1.00</td>\n",
       "      <td>0.12</td>\n",
       "      <td>0.00</td>\n",
       "      <td>0.33</td>\n",
       "      <td>2.30</td>\n",
       "      <td>3.30</td>\n",
       "    </tr>\n",
       "  </tbody>\n",
       "</table>\n",
       "</div>"
      ],
      "text/plain": [
       "             attributes     min       max     range      mean    median       std   skew  kurtosis\n",
       "0                    id    1.00 381109.00 381108.00 190555.00 190555.00 110016.69  -0.00     -1.20\n",
       "1                   age   20.00     85.00     65.00     38.82     36.00     15.51   0.67     -0.57\n",
       "2           region_code    0.00     52.00     52.00     26.39     28.00     13.23  -0.12     -0.87\n",
       "3  policy_sales_channel    1.00    163.00    162.00    112.03    133.00     54.20  -0.90     -0.97\n",
       "4       driving_license    0.00      1.00      1.00      1.00      1.00      0.05 -21.60    464.35\n",
       "5    previously_insured    0.00      1.00      1.00      0.46      0.00      0.50   0.17     -1.97\n",
       "6        annual_premium 2630.00 540165.00 537535.00  30564.39  31669.00  17213.13   1.77     34.00\n",
       "7               vintage   10.00    299.00    289.00    154.35    154.00     83.67   0.00     -1.20\n",
       "8              response    0.00      1.00      1.00      0.12      0.00      0.33   2.30      3.30"
      ]
     },
     "execution_count": 70,
     "metadata": {},
     "output_type": "execute_result"
    }
   ],
   "source": [
    "m"
   ]
  },
  {
   "cell_type": "markdown",
   "id": "a4e6ad66",
   "metadata": {},
   "source": [
    "# 2.0. Feature Engineering"
   ]
  },
  {
   "cell_type": "code",
   "execution_count": 71,
   "id": "1f6fb073",
   "metadata": {
    "ExecuteTime": {
     "end_time": "2021-10-15T01:47:19.691884Z",
     "start_time": "2021-10-15T01:47:19.659830Z"
    }
   },
   "outputs": [],
   "source": [
    "df2 = df1.copy()"
   ]
  },
  {
   "cell_type": "code",
   "execution_count": 76,
   "id": "b0b3947a",
   "metadata": {
    "ExecuteTime": {
     "end_time": "2021-10-15T02:26:46.991736Z",
     "start_time": "2021-10-15T02:26:46.980745Z"
    }
   },
   "outputs": [
    {
     "data": {
      "text/html": [
       "<div>\n",
       "<style scoped>\n",
       "    .dataframe tbody tr th:only-of-type {\n",
       "        vertical-align: middle;\n",
       "    }\n",
       "\n",
       "    .dataframe tbody tr th {\n",
       "        vertical-align: top;\n",
       "    }\n",
       "\n",
       "    .dataframe thead th {\n",
       "        text-align: right;\n",
       "    }\n",
       "</style>\n",
       "<table border=\"1\" class=\"dataframe\">\n",
       "  <thead>\n",
       "    <tr style=\"text-align: right;\">\n",
       "      <th></th>\n",
       "      <th>id</th>\n",
       "      <th>gender</th>\n",
       "      <th>age</th>\n",
       "      <th>region_code</th>\n",
       "      <th>policy_sales_channel</th>\n",
       "      <th>driving_license</th>\n",
       "      <th>vehicle_age</th>\n",
       "      <th>vehicle_damage</th>\n",
       "      <th>previously_insured</th>\n",
       "      <th>annual_premium</th>\n",
       "      <th>vintage</th>\n",
       "      <th>response</th>\n",
       "    </tr>\n",
       "  </thead>\n",
       "  <tbody>\n",
       "    <tr>\n",
       "      <th>0</th>\n",
       "      <td>7</td>\n",
       "      <td>Male</td>\n",
       "      <td>23</td>\n",
       "      <td>11.00</td>\n",
       "      <td>152.00</td>\n",
       "      <td>1</td>\n",
       "      <td>below_1_year</td>\n",
       "      <td>1</td>\n",
       "      <td>0</td>\n",
       "      <td>23367.00</td>\n",
       "      <td>249</td>\n",
       "      <td>0</td>\n",
       "    </tr>\n",
       "    <tr>\n",
       "      <th>1</th>\n",
       "      <td>13</td>\n",
       "      <td>Female</td>\n",
       "      <td>41</td>\n",
       "      <td>15.00</td>\n",
       "      <td>14.00</td>\n",
       "      <td>1</td>\n",
       "      <td>between_1_2_year</td>\n",
       "      <td>0</td>\n",
       "      <td>1</td>\n",
       "      <td>31409.00</td>\n",
       "      <td>221</td>\n",
       "      <td>0</td>\n",
       "    </tr>\n",
       "    <tr>\n",
       "      <th>2</th>\n",
       "      <td>18</td>\n",
       "      <td>Female</td>\n",
       "      <td>25</td>\n",
       "      <td>35.00</td>\n",
       "      <td>152.00</td>\n",
       "      <td>1</td>\n",
       "      <td>below_1_year</td>\n",
       "      <td>0</td>\n",
       "      <td>1</td>\n",
       "      <td>46622.00</td>\n",
       "      <td>299</td>\n",
       "      <td>0</td>\n",
       "    </tr>\n",
       "    <tr>\n",
       "      <th>3</th>\n",
       "      <td>31</td>\n",
       "      <td>Female</td>\n",
       "      <td>26</td>\n",
       "      <td>8.00</td>\n",
       "      <td>160.00</td>\n",
       "      <td>1</td>\n",
       "      <td>below_1_year</td>\n",
       "      <td>0</td>\n",
       "      <td>0</td>\n",
       "      <td>2630.00</td>\n",
       "      <td>136</td>\n",
       "      <td>0</td>\n",
       "    </tr>\n",
       "    <tr>\n",
       "      <th>4</th>\n",
       "      <td>39</td>\n",
       "      <td>Male</td>\n",
       "      <td>45</td>\n",
       "      <td>8.00</td>\n",
       "      <td>124.00</td>\n",
       "      <td>1</td>\n",
       "      <td>between_1_2_year</td>\n",
       "      <td>1</td>\n",
       "      <td>0</td>\n",
       "      <td>42297.00</td>\n",
       "      <td>264</td>\n",
       "      <td>0</td>\n",
       "    </tr>\n",
       "  </tbody>\n",
       "</table>\n",
       "</div>"
      ],
      "text/plain": [
       "   id  gender  age  region_code  policy_sales_channel  driving_license       vehicle_age  vehicle_damage  previously_insured  annual_premium  vintage  response\n",
       "0   7    Male   23        11.00                152.00                1      below_1_year               1                   0        23367.00      249         0\n",
       "1  13  Female   41        15.00                 14.00                1  between_1_2_year               0                   1        31409.00      221         0\n",
       "2  18  Female   25        35.00                152.00                1      below_1_year               0                   1        46622.00      299         0\n",
       "3  31  Female   26         8.00                160.00                1      below_1_year               0                   0         2630.00      136         0\n",
       "4  39    Male   45         8.00                124.00                1  between_1_2_year               1                   0        42297.00      264         0"
      ]
     },
     "execution_count": 76,
     "metadata": {},
     "output_type": "execute_result"
    }
   ],
   "source": [
    "df2.head()"
   ]
  },
  {
   "cell_type": "code",
   "execution_count": 75,
   "id": "2e4379df",
   "metadata": {
    "ExecuteTime": {
     "end_time": "2021-10-15T02:26:36.902736Z",
     "start_time": "2021-10-15T02:26:36.706254Z"
    }
   },
   "outputs": [],
   "source": [
    "# vehicle age\n",
    "df2['vehicle_age'] = df2['vehicle_age'].apply( lambda x: 'over_2_years' if x =='> 2 Years' else 'between_1_2_year' if x == '1-2 Year' else 'below_1_year') \n",
    "\n",
    "# vehicle damage\n",
    "df2['vehicle_damage'] = df2['vehicle_damage'].apply( lambda x: 0 if x == \"No\" else 1 ) "
   ]
  },
  {
   "cell_type": "markdown",
   "id": "1583b429",
   "metadata": {},
   "source": [
    "# 3.0. Data Filtering"
   ]
  },
  {
   "cell_type": "code",
   "execution_count": 77,
   "id": "19afb5b5",
   "metadata": {
    "ExecuteTime": {
     "end_time": "2021-10-15T02:28:45.232875Z",
     "start_time": "2021-10-15T02:28:45.197011Z"
    }
   },
   "outputs": [],
   "source": [
    "df3 = df2.copy()"
   ]
  },
  {
   "cell_type": "markdown",
   "id": "c353892a",
   "metadata": {
    "ExecuteTime": {
     "end_time": "2021-10-14T16:28:01.492474Z",
     "start_time": "2021-10-14T16:28:01.486339Z"
    }
   },
   "source": [
    "# 4.0. EDA"
   ]
  },
  {
   "cell_type": "markdown",
   "id": "eca32f3c",
   "metadata": {},
   "source": [
    "# 5.0. Feature Selection"
   ]
  },
  {
   "cell_type": "markdown",
   "id": "97e850df",
   "metadata": {},
   "source": [
    "# 6.0. Data preparation"
   ]
  },
  {
   "cell_type": "markdown",
   "id": "917834e5",
   "metadata": {},
   "source": [
    "# 7.0. Machine Learning Model"
   ]
  },
  {
   "cell_type": "code",
   "execution_count": null,
   "id": "cbfc4ebb",
   "metadata": {},
   "outputs": [],
   "source": []
  },
  {
   "cell_type": "code",
   "execution_count": null,
   "id": "2b4c0701",
   "metadata": {},
   "outputs": [],
   "source": []
  },
  {
   "cell_type": "code",
   "execution_count": null,
   "id": "f15534a2",
   "metadata": {},
   "outputs": [],
   "source": []
  },
  {
   "cell_type": "code",
   "execution_count": null,
   "id": "e878511d",
   "metadata": {},
   "outputs": [],
   "source": []
  },
  {
   "cell_type": "code",
   "execution_count": null,
   "id": "d9fd4710",
   "metadata": {},
   "outputs": [],
   "source": []
  },
  {
   "cell_type": "code",
   "execution_count": null,
   "id": "60e80445",
   "metadata": {},
   "outputs": [],
   "source": []
  }
 ],
 "metadata": {
  "kernelspec": {
   "display_name": "Python 3 (ipykernel)",
   "language": "python",
   "name": "python3"
  },
  "language_info": {
   "codemirror_mode": {
    "name": "ipython",
    "version": 3
   },
   "file_extension": ".py",
   "mimetype": "text/x-python",
   "name": "python",
   "nbconvert_exporter": "python",
   "pygments_lexer": "ipython3",
   "version": "3.9.2"
  }
 },
 "nbformat": 4,
 "nbformat_minor": 5
}
