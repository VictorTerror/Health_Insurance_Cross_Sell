{
 "cells": [
  {
   "cell_type": "markdown",
   "id": "18727f24",
   "metadata": {},
   "source": [
    "# 0.0. IMPORTS"
   ]
  },
  {
   "cell_type": "code",
   "execution_count": 1,
   "id": "dbfc535e",
   "metadata": {
    "ExecuteTime": {
     "end_time": "2021-12-03T15:32:31.354510Z",
     "start_time": "2021-12-03T15:32:29.879403Z"
    }
   },
   "outputs": [],
   "source": [
    "import pandas     as pd\n",
    "import numpy      as np\n",
    "import psycopg2   as pg\n",
    "import seaborn    as sns\n",
    "import scikitplot as skplt\n",
    "\n",
    "\n",
    "from matplotlib import pyplot          as plt\n",
    "from sklearn    import preprocessing   as pp\n",
    "from sklearn    import model_selection as ms\n",
    "from sklearn    import ensemble        as en\n",
    "from sklearn    import neighbors       as nh\n",
    "from sklearn    import linear_model    as lm\n",
    "\n",
    "\n",
    "import warnings\n",
    "\n",
    "import pandas.io.sql     as psql\n",
    "\n",
    "from IPython.core.display  import HTML"
   ]
  },
  {
   "cell_type": "markdown",
   "id": "fa7beffb",
   "metadata": {},
   "source": [
    "## 0.1. Helper Functions"
   ]
  },
  {
   "cell_type": "code",
   "execution_count": 2,
   "id": "090cda31",
   "metadata": {
    "ExecuteTime": {
     "end_time": "2021-12-03T15:32:31.361566Z",
     "start_time": "2021-12-03T15:32:31.355844Z"
    }
   },
   "outputs": [],
   "source": [
    "def jupyter_settings():\n",
    "    %matplotlib inline\n",
    "    %pylab inline\n",
    "    \n",
    "    plt.style.use( 'bmh' )\n",
    "    plt.rcParams['figure.figsize'] = [20, 8]\n",
    "    plt.rcParams['font.size'] = 24\n",
    "    \n",
    "    display( HTML( '<style>.container { width:100% !important; }</style>') )\n",
    "    pd.options.display.max_columns = None\n",
    "    pd.options.display.max_rows = None\n",
    "    pd.set_option( 'display.expand_frame_repr', False )\n",
    "    \n",
    "    sns.set()\n",
    "    \n",
    "    \n",
    "warnings.filterwarnings( 'ignore' )\n",
    "pd.options.display.float_format = '{:.6f}'.format"
   ]
  },
  {
   "cell_type": "code",
   "execution_count": 3,
   "id": "a48358af",
   "metadata": {
    "ExecuteTime": {
     "end_time": "2021-12-03T15:32:31.370479Z",
     "start_time": "2021-12-03T15:32:31.362762Z"
    }
   },
   "outputs": [
    {
     "name": "stdout",
     "output_type": "stream",
     "text": [
      "Populating the interactive namespace from numpy and matplotlib\n"
     ]
    },
    {
     "data": {
      "text/html": [
       "<style>.container { width:100% !important; }</style>"
      ],
      "text/plain": [
       "<IPython.core.display.HTML object>"
      ]
     },
     "metadata": {},
     "output_type": "display_data"
    }
   ],
   "source": [
    "jupyter_settings()"
   ]
  },
  {
   "cell_type": "markdown",
   "id": "e861620f",
   "metadata": {},
   "source": [
    "## 0.2. Loading Data"
   ]
  },
  {
   "cell_type": "code",
   "execution_count": 4,
   "id": "356f753f",
   "metadata": {
    "ExecuteTime": {
     "end_time": "2021-12-03T15:32:32.253151Z",
     "start_time": "2021-12-03T15:32:31.371980Z"
    }
   },
   "outputs": [],
   "source": [
    "# Credentials\n",
    "host =     'comunidade-ds-postgres.c50pcakiuwi3.us-east-1.rds.amazonaws.com'\n",
    "port =      5432\n",
    "database = 'comunidadedsdb'\n",
    "username = 'member'\n",
    "pwd =      'cdspa'\n",
    "\n",
    "\n",
    "\n",
    "# Connecting to database\n",
    "conn = pg.connect(  user=username,\n",
    "                    password=pwd,\n",
    "                    host=host,\n",
    "                    port=port,\n",
    "                    database=database )\n",
    "\n",
    "\n",
    "\n",
    "cursor = conn.cursor()"
   ]
  },
  {
   "cell_type": "code",
   "execution_count": 5,
   "id": "9cdd993d",
   "metadata": {
    "ExecuteTime": {
     "end_time": "2021-12-03T15:32:32.550161Z",
     "start_time": "2021-12-03T15:32:32.257877Z"
    }
   },
   "outputs": [
    {
     "name": "stdout",
     "output_type": "stream",
     "text": [
      "[('pg_toast',), ('pg_temp_1',), ('pg_toast_temp_1',), ('pg_catalog',), ('information_schema',), ('public',), ('pa004',), ('pg_temp_4',), ('pg_toast_temp_4',), ('pa005',), ('pg_temp_9',), ('pg_toast_temp_9',)]\n"
     ]
    }
   ],
   "source": [
    "# Query Schemas\n",
    "query_schema = \"\"\"\n",
    "    SELECT nspname\n",
    "    FROM pg_catalog.pg_namespace\n",
    "\"\"\"\n",
    "\n",
    "cursor.execute( query_schema )\n",
    "\n",
    "print(cursor.fetchall())"
   ]
  },
  {
   "cell_type": "code",
   "execution_count": 6,
   "id": "55d45d07",
   "metadata": {
    "ExecuteTime": {
     "end_time": "2021-12-03T15:32:40.184044Z",
     "start_time": "2021-12-03T15:32:32.558630Z"
    }
   },
   "outputs": [],
   "source": [
    "# Query Tables\n",
    "query_tables = \"\"\"\n",
    "SELECT * FROM pa004.users u LEFT JOIN pa004.vehicle v on (u.id = v.id)\n",
    "                            LEFT JOIN pa004.insurance i on (u.id = i.id)\n",
    "        order by u.id\n",
    "\"\"\"\n",
    "\n",
    "# Defining raw dataset\n",
    "df_raw_table = pd.read_sql(query_tables, conn)\n",
    "\n",
    "\n",
    "# Closing cursor and connction\n",
    "cursor.close()\n",
    "conn.close()"
   ]
  },
  {
   "cell_type": "code",
   "execution_count": 7,
   "id": "5f722864",
   "metadata": {
    "ExecuteTime": {
     "end_time": "2021-12-03T15:32:40.198444Z",
     "start_time": "2021-12-03T15:32:40.186794Z"
    }
   },
   "outputs": [
    {
     "data": {
      "text/html": [
       "<div>\n",
       "<style scoped>\n",
       "    .dataframe tbody tr th:only-of-type {\n",
       "        vertical-align: middle;\n",
       "    }\n",
       "\n",
       "    .dataframe tbody tr th {\n",
       "        vertical-align: top;\n",
       "    }\n",
       "\n",
       "    .dataframe thead th {\n",
       "        text-align: right;\n",
       "    }\n",
       "</style>\n",
       "<table border=\"1\" class=\"dataframe\">\n",
       "  <thead>\n",
       "    <tr style=\"text-align: right;\">\n",
       "      <th></th>\n",
       "      <th>id</th>\n",
       "      <th>gender</th>\n",
       "      <th>age</th>\n",
       "      <th>region_code</th>\n",
       "      <th>policy_sales_channel</th>\n",
       "      <th>id</th>\n",
       "      <th>driving_license</th>\n",
       "      <th>vehicle_age</th>\n",
       "      <th>vehicle_damage</th>\n",
       "      <th>id</th>\n",
       "      <th>previously_insured</th>\n",
       "      <th>annual_premium</th>\n",
       "      <th>vintage</th>\n",
       "      <th>response</th>\n",
       "    </tr>\n",
       "  </thead>\n",
       "  <tbody>\n",
       "    <tr>\n",
       "      <th>0</th>\n",
       "      <td>1</td>\n",
       "      <td>Male</td>\n",
       "      <td>44</td>\n",
       "      <td>28.000000</td>\n",
       "      <td>26.000000</td>\n",
       "      <td>1</td>\n",
       "      <td>1</td>\n",
       "      <td>&gt; 2 Years</td>\n",
       "      <td>Yes</td>\n",
       "      <td>1</td>\n",
       "      <td>0</td>\n",
       "      <td>40454.000000</td>\n",
       "      <td>217</td>\n",
       "      <td>1</td>\n",
       "    </tr>\n",
       "    <tr>\n",
       "      <th>1</th>\n",
       "      <td>2</td>\n",
       "      <td>Male</td>\n",
       "      <td>76</td>\n",
       "      <td>3.000000</td>\n",
       "      <td>26.000000</td>\n",
       "      <td>2</td>\n",
       "      <td>1</td>\n",
       "      <td>1-2 Year</td>\n",
       "      <td>No</td>\n",
       "      <td>2</td>\n",
       "      <td>0</td>\n",
       "      <td>33536.000000</td>\n",
       "      <td>183</td>\n",
       "      <td>0</td>\n",
       "    </tr>\n",
       "    <tr>\n",
       "      <th>2</th>\n",
       "      <td>3</td>\n",
       "      <td>Male</td>\n",
       "      <td>47</td>\n",
       "      <td>28.000000</td>\n",
       "      <td>26.000000</td>\n",
       "      <td>3</td>\n",
       "      <td>1</td>\n",
       "      <td>&gt; 2 Years</td>\n",
       "      <td>Yes</td>\n",
       "      <td>3</td>\n",
       "      <td>0</td>\n",
       "      <td>38294.000000</td>\n",
       "      <td>27</td>\n",
       "      <td>1</td>\n",
       "    </tr>\n",
       "    <tr>\n",
       "      <th>3</th>\n",
       "      <td>4</td>\n",
       "      <td>Male</td>\n",
       "      <td>21</td>\n",
       "      <td>11.000000</td>\n",
       "      <td>152.000000</td>\n",
       "      <td>4</td>\n",
       "      <td>1</td>\n",
       "      <td>&lt; 1 Year</td>\n",
       "      <td>No</td>\n",
       "      <td>4</td>\n",
       "      <td>1</td>\n",
       "      <td>28619.000000</td>\n",
       "      <td>203</td>\n",
       "      <td>0</td>\n",
       "    </tr>\n",
       "    <tr>\n",
       "      <th>4</th>\n",
       "      <td>5</td>\n",
       "      <td>Female</td>\n",
       "      <td>29</td>\n",
       "      <td>41.000000</td>\n",
       "      <td>152.000000</td>\n",
       "      <td>5</td>\n",
       "      <td>1</td>\n",
       "      <td>&lt; 1 Year</td>\n",
       "      <td>No</td>\n",
       "      <td>5</td>\n",
       "      <td>1</td>\n",
       "      <td>27496.000000</td>\n",
       "      <td>39</td>\n",
       "      <td>0</td>\n",
       "    </tr>\n",
       "  </tbody>\n",
       "</table>\n",
       "</div>"
      ],
      "text/plain": [
       "   id  gender  age  region_code  policy_sales_channel  id  driving_license vehicle_age vehicle_damage  id  previously_insured  annual_premium  vintage  response\n",
       "0   1    Male   44    28.000000             26.000000   1                1   > 2 Years            Yes   1                   0    40454.000000      217         1\n",
       "1   2    Male   76     3.000000             26.000000   2                1    1-2 Year             No   2                   0    33536.000000      183         0\n",
       "2   3    Male   47    28.000000             26.000000   3                1   > 2 Years            Yes   3                   0    38294.000000       27         1\n",
       "3   4    Male   21    11.000000            152.000000   4                1    < 1 Year             No   4                   1    28619.000000      203         0\n",
       "4   5  Female   29    41.000000            152.000000   5                1    < 1 Year             No   5                   1    27496.000000       39         0"
      ]
     },
     "execution_count": 7,
     "metadata": {},
     "output_type": "execute_result"
    }
   ],
   "source": [
    "df_raw_table.head()"
   ]
  },
  {
   "cell_type": "markdown",
   "id": "6094dc68",
   "metadata": {},
   "source": [
    "# 1.0. Data Description"
   ]
  },
  {
   "cell_type": "code",
   "execution_count": 8,
   "id": "7c526a7c",
   "metadata": {
    "ExecuteTime": {
     "end_time": "2021-12-03T15:32:40.219315Z",
     "start_time": "2021-12-03T15:32:40.199518Z"
    }
   },
   "outputs": [],
   "source": [
    "df1 = df_raw_table.copy()"
   ]
  },
  {
   "cell_type": "code",
   "execution_count": 9,
   "id": "4df36086",
   "metadata": {
    "ExecuteTime": {
     "end_time": "2021-12-03T15:32:40.224727Z",
     "start_time": "2021-12-03T15:32:40.220666Z"
    }
   },
   "outputs": [
    {
     "data": {
      "text/plain": [
       "Index(['id', 'gender', 'age', 'region_code', 'policy_sales_channel', 'id',\n",
       "       'driving_license', 'vehicle_age', 'vehicle_damage', 'id',\n",
       "       'previously_insured', 'annual_premium', 'vintage', 'response'],\n",
       "      dtype='object')"
      ]
     },
     "execution_count": 9,
     "metadata": {},
     "output_type": "execute_result"
    }
   ],
   "source": [
    "df1.columns"
   ]
  },
  {
   "cell_type": "code",
   "execution_count": 10,
   "id": "d29710d3",
   "metadata": {
    "ExecuteTime": {
     "end_time": "2021-12-03T15:32:40.265998Z",
     "start_time": "2021-12-03T15:32:40.226827Z"
    }
   },
   "outputs": [],
   "source": [
    "# Removing duplicated columns\n",
    "df1 = df1.loc[:,~df1.columns.duplicated()]"
   ]
  },
  {
   "cell_type": "markdown",
   "id": "80370bf4",
   "metadata": {},
   "source": [
    "## 1.1. Data Dimension"
   ]
  },
  {
   "cell_type": "code",
   "execution_count": 11,
   "id": "ff3b91b5",
   "metadata": {
    "ExecuteTime": {
     "end_time": "2021-12-03T15:32:40.269875Z",
     "start_time": "2021-12-03T15:32:40.267264Z"
    }
   },
   "outputs": [
    {
     "name": "stdout",
     "output_type": "stream",
     "text": [
      "Number of Rows: 381109\n",
      "Number of Columns: 12\n"
     ]
    }
   ],
   "source": [
    "print(f\"Number of Rows: {df1.shape[0]}\")\n",
    "print(f\"Number of Columns: {df1.shape[1]}\")"
   ]
  },
  {
   "cell_type": "markdown",
   "id": "ece21b22",
   "metadata": {},
   "source": [
    "## 1.2. Data Types"
   ]
  },
  {
   "cell_type": "code",
   "execution_count": 12,
   "id": "3584ebde",
   "metadata": {
    "ExecuteTime": {
     "end_time": "2021-12-03T15:32:40.275664Z",
     "start_time": "2021-12-03T15:32:40.270818Z"
    }
   },
   "outputs": [
    {
     "data": {
      "text/plain": [
       "id                        int64\n",
       "gender                   object\n",
       "age                       int64\n",
       "region_code             float64\n",
       "policy_sales_channel    float64\n",
       "driving_license           int64\n",
       "vehicle_age              object\n",
       "vehicle_damage           object\n",
       "previously_insured        int64\n",
       "annual_premium          float64\n",
       "vintage                   int64\n",
       "response                  int64\n",
       "dtype: object"
      ]
     },
     "execution_count": 12,
     "metadata": {},
     "output_type": "execute_result"
    }
   ],
   "source": [
    "df1.dtypes"
   ]
  },
  {
   "cell_type": "markdown",
   "id": "65064c7b",
   "metadata": {},
   "source": [
    "## 1.3. Check NA"
   ]
  },
  {
   "cell_type": "code",
   "execution_count": 13,
   "id": "0a4f71b5",
   "metadata": {
    "ExecuteTime": {
     "end_time": "2021-12-03T15:32:40.346154Z",
     "start_time": "2021-12-03T15:32:40.276994Z"
    }
   },
   "outputs": [
    {
     "data": {
      "text/plain": [
       "id                      0\n",
       "gender                  0\n",
       "age                     0\n",
       "region_code             0\n",
       "policy_sales_channel    0\n",
       "driving_license         0\n",
       "vehicle_age             0\n",
       "vehicle_damage          0\n",
       "previously_insured      0\n",
       "annual_premium          0\n",
       "vintage                 0\n",
       "response                0\n",
       "dtype: int64"
      ]
     },
     "execution_count": 13,
     "metadata": {},
     "output_type": "execute_result"
    }
   ],
   "source": [
    "df1.isnull().sum()"
   ]
  },
  {
   "cell_type": "markdown",
   "id": "a1ac0f52",
   "metadata": {},
   "source": [
    "## 1.4. Data Descriptive"
   ]
  },
  {
   "cell_type": "code",
   "execution_count": 14,
   "id": "a2e813c0",
   "metadata": {
    "ExecuteTime": {
     "end_time": "2021-12-03T15:32:40.375875Z",
     "start_time": "2021-12-03T15:32:40.347165Z"
    }
   },
   "outputs": [],
   "source": [
    "num_attributes = df1.select_dtypes( include=['int64', 'float64'] )\n",
    "cat_attributes = df1.select_dtypes( exclude=['int64', 'float64', 'datetime64[ns]'] )"
   ]
  },
  {
   "cell_type": "code",
   "execution_count": 15,
   "id": "130b0d92",
   "metadata": {
    "ExecuteTime": {
     "end_time": "2021-12-03T15:32:40.979454Z",
     "start_time": "2021-12-03T15:32:40.377083Z"
    }
   },
   "outputs": [],
   "source": [
    "# Central Tendency - Mean and Median\n",
    "ct1 = pd.DataFrame( num_attributes.apply( np.mean ) ).T\n",
    "ct2 = pd.DataFrame( num_attributes.apply( np.median ) ).T\n",
    "\n",
    "# Dispersion - std, min, max, range, skew, kurtosis\n",
    "d1 = pd.DataFrame( num_attributes.apply( np.std ) ).T\n",
    "d2 = pd.DataFrame( num_attributes.apply( min ) ).T\n",
    "d3 = pd.DataFrame( num_attributes.apply( max ) ).T\n",
    "d4 = pd.DataFrame( num_attributes.apply( lambda x: x.max() - x.min() ) ).T\n",
    "d5 = pd.DataFrame( num_attributes.apply( lambda x: x.skew() ) ).T\n",
    "d6 = pd.DataFrame( num_attributes.apply( lambda x: x.kurtosis() ) ).T\n",
    "\n",
    "# Concatenate\n",
    "m = pd.concat( [d2, d3, d4, ct1, ct2, d1, d5, d6] ).T.reset_index()\n",
    "m.columns = ['attributes', 'min', 'max', 'range', 'mean', 'median', 'std', 'skew', 'kurtosis']"
   ]
  },
  {
   "cell_type": "code",
   "execution_count": 16,
   "id": "23d84bb0",
   "metadata": {
    "ExecuteTime": {
     "end_time": "2021-12-03T15:32:40.988801Z",
     "start_time": "2021-12-03T15:32:40.980806Z"
    }
   },
   "outputs": [
    {
     "data": {
      "text/html": [
       "<div>\n",
       "<style scoped>\n",
       "    .dataframe tbody tr th:only-of-type {\n",
       "        vertical-align: middle;\n",
       "    }\n",
       "\n",
       "    .dataframe tbody tr th {\n",
       "        vertical-align: top;\n",
       "    }\n",
       "\n",
       "    .dataframe thead th {\n",
       "        text-align: right;\n",
       "    }\n",
       "</style>\n",
       "<table border=\"1\" class=\"dataframe\">\n",
       "  <thead>\n",
       "    <tr style=\"text-align: right;\">\n",
       "      <th></th>\n",
       "      <th>attributes</th>\n",
       "      <th>min</th>\n",
       "      <th>max</th>\n",
       "      <th>range</th>\n",
       "      <th>mean</th>\n",
       "      <th>median</th>\n",
       "      <th>std</th>\n",
       "      <th>skew</th>\n",
       "      <th>kurtosis</th>\n",
       "    </tr>\n",
       "  </thead>\n",
       "  <tbody>\n",
       "    <tr>\n",
       "      <th>0</th>\n",
       "      <td>id</td>\n",
       "      <td>1.000000</td>\n",
       "      <td>381109.000000</td>\n",
       "      <td>381108.000000</td>\n",
       "      <td>190555.000000</td>\n",
       "      <td>190555.000000</td>\n",
       "      <td>110016.691870</td>\n",
       "      <td>0.000000</td>\n",
       "      <td>-1.200000</td>\n",
       "    </tr>\n",
       "    <tr>\n",
       "      <th>1</th>\n",
       "      <td>age</td>\n",
       "      <td>20.000000</td>\n",
       "      <td>85.000000</td>\n",
       "      <td>65.000000</td>\n",
       "      <td>38.822584</td>\n",
       "      <td>36.000000</td>\n",
       "      <td>15.511591</td>\n",
       "      <td>0.672539</td>\n",
       "      <td>-0.565655</td>\n",
       "    </tr>\n",
       "    <tr>\n",
       "      <th>2</th>\n",
       "      <td>region_code</td>\n",
       "      <td>0.000000</td>\n",
       "      <td>52.000000</td>\n",
       "      <td>52.000000</td>\n",
       "      <td>26.388807</td>\n",
       "      <td>28.000000</td>\n",
       "      <td>13.229871</td>\n",
       "      <td>-0.115266</td>\n",
       "      <td>-0.867857</td>\n",
       "    </tr>\n",
       "    <tr>\n",
       "      <th>3</th>\n",
       "      <td>policy_sales_channel</td>\n",
       "      <td>1.000000</td>\n",
       "      <td>163.000000</td>\n",
       "      <td>162.000000</td>\n",
       "      <td>112.034295</td>\n",
       "      <td>133.000000</td>\n",
       "      <td>54.203924</td>\n",
       "      <td>-0.900008</td>\n",
       "      <td>-0.970810</td>\n",
       "    </tr>\n",
       "    <tr>\n",
       "      <th>4</th>\n",
       "      <td>driving_license</td>\n",
       "      <td>0.000000</td>\n",
       "      <td>1.000000</td>\n",
       "      <td>1.000000</td>\n",
       "      <td>0.997869</td>\n",
       "      <td>1.000000</td>\n",
       "      <td>0.046109</td>\n",
       "      <td>-21.595182</td>\n",
       "      <td>464.354302</td>\n",
       "    </tr>\n",
       "    <tr>\n",
       "      <th>5</th>\n",
       "      <td>previously_insured</td>\n",
       "      <td>0.000000</td>\n",
       "      <td>1.000000</td>\n",
       "      <td>1.000000</td>\n",
       "      <td>0.458210</td>\n",
       "      <td>0.000000</td>\n",
       "      <td>0.498251</td>\n",
       "      <td>0.167747</td>\n",
       "      <td>-1.971871</td>\n",
       "    </tr>\n",
       "    <tr>\n",
       "      <th>6</th>\n",
       "      <td>annual_premium</td>\n",
       "      <td>2630.000000</td>\n",
       "      <td>540165.000000</td>\n",
       "      <td>537535.000000</td>\n",
       "      <td>30564.389581</td>\n",
       "      <td>31669.000000</td>\n",
       "      <td>17213.132474</td>\n",
       "      <td>1.766087</td>\n",
       "      <td>34.004569</td>\n",
       "    </tr>\n",
       "    <tr>\n",
       "      <th>7</th>\n",
       "      <td>vintage</td>\n",
       "      <td>10.000000</td>\n",
       "      <td>299.000000</td>\n",
       "      <td>289.000000</td>\n",
       "      <td>154.347397</td>\n",
       "      <td>154.000000</td>\n",
       "      <td>83.671194</td>\n",
       "      <td>0.003030</td>\n",
       "      <td>-1.200688</td>\n",
       "    </tr>\n",
       "    <tr>\n",
       "      <th>8</th>\n",
       "      <td>response</td>\n",
       "      <td>0.000000</td>\n",
       "      <td>1.000000</td>\n",
       "      <td>1.000000</td>\n",
       "      <td>0.122563</td>\n",
       "      <td>0.000000</td>\n",
       "      <td>0.327935</td>\n",
       "      <td>2.301906</td>\n",
       "      <td>3.298788</td>\n",
       "    </tr>\n",
       "  </tbody>\n",
       "</table>\n",
       "</div>"
      ],
      "text/plain": [
       "             attributes         min           max         range          mean        median           std       skew   kurtosis\n",
       "0                    id    1.000000 381109.000000 381108.000000 190555.000000 190555.000000 110016.691870   0.000000  -1.200000\n",
       "1                   age   20.000000     85.000000     65.000000     38.822584     36.000000     15.511591   0.672539  -0.565655\n",
       "2           region_code    0.000000     52.000000     52.000000     26.388807     28.000000     13.229871  -0.115266  -0.867857\n",
       "3  policy_sales_channel    1.000000    163.000000    162.000000    112.034295    133.000000     54.203924  -0.900008  -0.970810\n",
       "4       driving_license    0.000000      1.000000      1.000000      0.997869      1.000000      0.046109 -21.595182 464.354302\n",
       "5    previously_insured    0.000000      1.000000      1.000000      0.458210      0.000000      0.498251   0.167747  -1.971871\n",
       "6        annual_premium 2630.000000 540165.000000 537535.000000  30564.389581  31669.000000  17213.132474   1.766087  34.004569\n",
       "7               vintage   10.000000    299.000000    289.000000    154.347397    154.000000     83.671194   0.003030  -1.200688\n",
       "8              response    0.000000      1.000000      1.000000      0.122563      0.000000      0.327935   2.301906   3.298788"
      ]
     },
     "execution_count": 16,
     "metadata": {},
     "output_type": "execute_result"
    }
   ],
   "source": [
    "m"
   ]
  },
  {
   "cell_type": "markdown",
   "id": "a4e6ad66",
   "metadata": {},
   "source": [
    "# 2.0. Feature Engineering"
   ]
  },
  {
   "cell_type": "code",
   "execution_count": 17,
   "id": "1f6fb073",
   "metadata": {
    "ExecuteTime": {
     "end_time": "2021-12-03T15:32:41.011403Z",
     "start_time": "2021-12-03T15:32:40.990050Z"
    }
   },
   "outputs": [],
   "source": [
    "df2 = df1.copy()"
   ]
  },
  {
   "cell_type": "code",
   "execution_count": 18,
   "id": "b0b3947a",
   "metadata": {
    "ExecuteTime": {
     "end_time": "2021-12-03T15:32:41.022952Z",
     "start_time": "2021-12-03T15:32:41.012543Z"
    }
   },
   "outputs": [
    {
     "data": {
      "text/html": [
       "<div>\n",
       "<style scoped>\n",
       "    .dataframe tbody tr th:only-of-type {\n",
       "        vertical-align: middle;\n",
       "    }\n",
       "\n",
       "    .dataframe tbody tr th {\n",
       "        vertical-align: top;\n",
       "    }\n",
       "\n",
       "    .dataframe thead th {\n",
       "        text-align: right;\n",
       "    }\n",
       "</style>\n",
       "<table border=\"1\" class=\"dataframe\">\n",
       "  <thead>\n",
       "    <tr style=\"text-align: right;\">\n",
       "      <th></th>\n",
       "      <th>id</th>\n",
       "      <th>gender</th>\n",
       "      <th>age</th>\n",
       "      <th>region_code</th>\n",
       "      <th>policy_sales_channel</th>\n",
       "      <th>driving_license</th>\n",
       "      <th>vehicle_age</th>\n",
       "      <th>vehicle_damage</th>\n",
       "      <th>previously_insured</th>\n",
       "      <th>annual_premium</th>\n",
       "      <th>vintage</th>\n",
       "      <th>response</th>\n",
       "    </tr>\n",
       "  </thead>\n",
       "  <tbody>\n",
       "    <tr>\n",
       "      <th>0</th>\n",
       "      <td>1</td>\n",
       "      <td>Male</td>\n",
       "      <td>44</td>\n",
       "      <td>28.000000</td>\n",
       "      <td>26.000000</td>\n",
       "      <td>1</td>\n",
       "      <td>&gt; 2 Years</td>\n",
       "      <td>Yes</td>\n",
       "      <td>0</td>\n",
       "      <td>40454.000000</td>\n",
       "      <td>217</td>\n",
       "      <td>1</td>\n",
       "    </tr>\n",
       "    <tr>\n",
       "      <th>1</th>\n",
       "      <td>2</td>\n",
       "      <td>Male</td>\n",
       "      <td>76</td>\n",
       "      <td>3.000000</td>\n",
       "      <td>26.000000</td>\n",
       "      <td>1</td>\n",
       "      <td>1-2 Year</td>\n",
       "      <td>No</td>\n",
       "      <td>0</td>\n",
       "      <td>33536.000000</td>\n",
       "      <td>183</td>\n",
       "      <td>0</td>\n",
       "    </tr>\n",
       "    <tr>\n",
       "      <th>2</th>\n",
       "      <td>3</td>\n",
       "      <td>Male</td>\n",
       "      <td>47</td>\n",
       "      <td>28.000000</td>\n",
       "      <td>26.000000</td>\n",
       "      <td>1</td>\n",
       "      <td>&gt; 2 Years</td>\n",
       "      <td>Yes</td>\n",
       "      <td>0</td>\n",
       "      <td>38294.000000</td>\n",
       "      <td>27</td>\n",
       "      <td>1</td>\n",
       "    </tr>\n",
       "    <tr>\n",
       "      <th>3</th>\n",
       "      <td>4</td>\n",
       "      <td>Male</td>\n",
       "      <td>21</td>\n",
       "      <td>11.000000</td>\n",
       "      <td>152.000000</td>\n",
       "      <td>1</td>\n",
       "      <td>&lt; 1 Year</td>\n",
       "      <td>No</td>\n",
       "      <td>1</td>\n",
       "      <td>28619.000000</td>\n",
       "      <td>203</td>\n",
       "      <td>0</td>\n",
       "    </tr>\n",
       "    <tr>\n",
       "      <th>4</th>\n",
       "      <td>5</td>\n",
       "      <td>Female</td>\n",
       "      <td>29</td>\n",
       "      <td>41.000000</td>\n",
       "      <td>152.000000</td>\n",
       "      <td>1</td>\n",
       "      <td>&lt; 1 Year</td>\n",
       "      <td>No</td>\n",
       "      <td>1</td>\n",
       "      <td>27496.000000</td>\n",
       "      <td>39</td>\n",
       "      <td>0</td>\n",
       "    </tr>\n",
       "  </tbody>\n",
       "</table>\n",
       "</div>"
      ],
      "text/plain": [
       "   id  gender  age  region_code  policy_sales_channel  driving_license vehicle_age vehicle_damage  previously_insured  annual_premium  vintage  response\n",
       "0   1    Male   44    28.000000             26.000000                1   > 2 Years            Yes                   0    40454.000000      217         1\n",
       "1   2    Male   76     3.000000             26.000000                1    1-2 Year             No                   0    33536.000000      183         0\n",
       "2   3    Male   47    28.000000             26.000000                1   > 2 Years            Yes                   0    38294.000000       27         1\n",
       "3   4    Male   21    11.000000            152.000000                1    < 1 Year             No                   1    28619.000000      203         0\n",
       "4   5  Female   29    41.000000            152.000000                1    < 1 Year             No                   1    27496.000000       39         0"
      ]
     },
     "execution_count": 18,
     "metadata": {},
     "output_type": "execute_result"
    }
   ],
   "source": [
    "df2.head()"
   ]
  },
  {
   "cell_type": "code",
   "execution_count": 19,
   "id": "2e4379df",
   "metadata": {
    "ExecuteTime": {
     "end_time": "2021-12-03T15:32:41.206431Z",
     "start_time": "2021-12-03T15:32:41.023971Z"
    }
   },
   "outputs": [],
   "source": [
    "# vehicle age\n",
    "df2['vehicle_age'] = df2['vehicle_age'].apply( lambda x: 'over_2_years' if x =='> 2 Years' else 'between_1_2_year' if x == '1-2 Year' else 'below_1_year') \n",
    "\n",
    "# vehicle damage\n",
    "df2['vehicle_damage'] = df2['vehicle_damage'].apply( lambda x: 0 if x == \"No\" else 1 ) "
   ]
  },
  {
   "cell_type": "markdown",
   "id": "1583b429",
   "metadata": {},
   "source": [
    "# 3.0. Data Filtering"
   ]
  },
  {
   "cell_type": "code",
   "execution_count": 20,
   "id": "19afb5b5",
   "metadata": {
    "ExecuteTime": {
     "end_time": "2021-12-03T15:32:41.230829Z",
     "start_time": "2021-12-03T15:32:41.207707Z"
    }
   },
   "outputs": [],
   "source": [
    "df3 = df2.copy()"
   ]
  },
  {
   "cell_type": "markdown",
   "id": "c353892a",
   "metadata": {
    "ExecuteTime": {
     "end_time": "2021-10-14T16:28:01.492474Z",
     "start_time": "2021-10-14T16:28:01.486339Z"
    }
   },
   "source": [
    "# 4.0. EDA"
   ]
  },
  {
   "cell_type": "code",
   "execution_count": 21,
   "id": "1bd41ccb",
   "metadata": {
    "ExecuteTime": {
     "end_time": "2021-12-03T15:32:41.243765Z",
     "start_time": "2021-12-03T15:32:41.231948Z"
    }
   },
   "outputs": [],
   "source": [
    "df4 = df3.copy()"
   ]
  },
  {
   "cell_type": "code",
   "execution_count": 22,
   "id": "c2148475",
   "metadata": {
    "ExecuteTime": {
     "end_time": "2021-12-03T15:32:41.248123Z",
     "start_time": "2021-12-03T15:32:41.244867Z"
    },
    "scrolled": true
   },
   "outputs": [
    {
     "data": {
      "text/plain": [
       "Index(['id', 'gender', 'age', 'region_code', 'policy_sales_channel',\n",
       "       'driving_license', 'vehicle_age', 'vehicle_damage',\n",
       "       'previously_insured', 'annual_premium', 'vintage', 'response'],\n",
       "      dtype='object')"
      ]
     },
     "execution_count": 22,
     "metadata": {},
     "output_type": "execute_result"
    }
   ],
   "source": [
    "df4.columns"
   ]
  },
  {
   "cell_type": "markdown",
   "id": "2a11013d",
   "metadata": {},
   "source": [
    "## 4.1. Univariated Analysis"
   ]
  },
  {
   "cell_type": "code",
   "execution_count": 23,
   "id": "7ac49d02",
   "metadata": {
    "ExecuteTime": {
     "end_time": "2021-12-03T15:32:41.338239Z",
     "start_time": "2021-12-03T15:32:41.249272Z"
    }
   },
   "outputs": [
    {
     "data": {
      "text/html": [
       "<div>\n",
       "<style scoped>\n",
       "    .dataframe tbody tr th:only-of-type {\n",
       "        vertical-align: middle;\n",
       "    }\n",
       "\n",
       "    .dataframe tbody tr th {\n",
       "        vertical-align: top;\n",
       "    }\n",
       "\n",
       "    .dataframe thead th {\n",
       "        text-align: right;\n",
       "    }\n",
       "</style>\n",
       "<table border=\"1\" class=\"dataframe\">\n",
       "  <thead>\n",
       "    <tr style=\"text-align: right;\">\n",
       "      <th>response</th>\n",
       "      <th>0</th>\n",
       "      <th>1</th>\n",
       "    </tr>\n",
       "    <tr>\n",
       "      <th>gender</th>\n",
       "      <th></th>\n",
       "      <th></th>\n",
       "    </tr>\n",
       "  </thead>\n",
       "  <tbody>\n",
       "    <tr>\n",
       "      <th>Female</th>\n",
       "      <td>0.896098</td>\n",
       "      <td>0.103902</td>\n",
       "    </tr>\n",
       "    <tr>\n",
       "      <th>Male</th>\n",
       "      <td>0.861589</td>\n",
       "      <td>0.138411</td>\n",
       "    </tr>\n",
       "  </tbody>\n",
       "</table>\n",
       "</div>"
      ],
      "text/plain": [
       "response        0        1\n",
       "gender                    \n",
       "Female   0.896098 0.103902\n",
       "Male     0.861589 0.138411"
      ]
     },
     "execution_count": 23,
     "metadata": {},
     "output_type": "execute_result"
    }
   ],
   "source": [
    "# Gender\n",
    "pd.crosstab( df4['gender'], df4['response'] ).apply( lambda x: x / x.sum(), axis = 1)\n"
   ]
  },
  {
   "cell_type": "code",
   "execution_count": 24,
   "id": "d4f576fc",
   "metadata": {
    "ExecuteTime": {
     "end_time": "2021-12-03T15:32:41.403450Z",
     "start_time": "2021-12-03T15:32:41.339304Z"
    }
   },
   "outputs": [
    {
     "data": {
      "text/html": [
       "<div>\n",
       "<style scoped>\n",
       "    .dataframe tbody tr th:only-of-type {\n",
       "        vertical-align: middle;\n",
       "    }\n",
       "\n",
       "    .dataframe tbody tr th {\n",
       "        vertical-align: top;\n",
       "    }\n",
       "\n",
       "    .dataframe thead th {\n",
       "        text-align: right;\n",
       "    }\n",
       "</style>\n",
       "<table border=\"1\" class=\"dataframe\">\n",
       "  <thead>\n",
       "    <tr style=\"text-align: right;\">\n",
       "      <th></th>\n",
       "      <th>gender</th>\n",
       "      <th>response</th>\n",
       "      <th>id</th>\n",
       "    </tr>\n",
       "  </thead>\n",
       "  <tbody>\n",
       "    <tr>\n",
       "      <th>0</th>\n",
       "      <td>Female</td>\n",
       "      <td>0</td>\n",
       "      <td>156835</td>\n",
       "    </tr>\n",
       "    <tr>\n",
       "      <th>1</th>\n",
       "      <td>Female</td>\n",
       "      <td>1</td>\n",
       "      <td>18185</td>\n",
       "    </tr>\n",
       "    <tr>\n",
       "      <th>2</th>\n",
       "      <td>Male</td>\n",
       "      <td>0</td>\n",
       "      <td>177564</td>\n",
       "    </tr>\n",
       "    <tr>\n",
       "      <th>3</th>\n",
       "      <td>Male</td>\n",
       "      <td>1</td>\n",
       "      <td>28525</td>\n",
       "    </tr>\n",
       "  </tbody>\n",
       "</table>\n",
       "</div>"
      ],
      "text/plain": [
       "   gender  response      id\n",
       "0  Female         0  156835\n",
       "1  Female         1   18185\n",
       "2    Male         0  177564\n",
       "3    Male         1   28525"
      ]
     },
     "execution_count": 24,
     "metadata": {},
     "output_type": "execute_result"
    }
   ],
   "source": [
    "aux = df4[['id', 'gender', 'response']].groupby( ['gender', 'response'] ).count().reset_index()\n",
    "aux"
   ]
  },
  {
   "cell_type": "code",
   "execution_count": 25,
   "id": "f618cab1",
   "metadata": {
    "ExecuteTime": {
     "end_time": "2021-12-03T15:32:42.225044Z",
     "start_time": "2021-12-03T15:32:41.404469Z"
    }
   },
   "outputs": [
    {
     "data": {
      "text/plain": [
       "<AxesSubplot:xlabel='age', ylabel='Count'>"
      ]
     },
     "execution_count": 25,
     "metadata": {},
     "output_type": "execute_result"
    },
    {
     "data": {
      "image/png": "[encoded data removed]",
      "text/plain": [
       "<Figure size 1440x576 with 3 Axes>"
      ]
     },
     "metadata": {},
     "output_type": "display_data"
    }
   ],
   "source": [
    "# Age\n",
    "\n",
    "plt.subplot(1, 3, 1)\n",
    "sns.boxplot( x='response', y='age', data=df4)\n",
    "\n",
    "plt.subplot(1, 3, 2)\n",
    "aux00 = df4.loc[df4['response'] == 0, 'age']\n",
    "sns.histplot( aux00 )\n",
    "\n",
    "plt.subplot(1, 3, 3)\n",
    "aux00 = df4.loc[df4['response'] == 1, 'age']\n",
    "sns.histplot( aux00 )"
   ]
  },
  {
   "cell_type": "code",
   "execution_count": 26,
   "id": "e5c64903",
   "metadata": {
    "ExecuteTime": {
     "end_time": "2021-12-03T15:32:42.464867Z",
     "start_time": "2021-12-03T15:32:42.226141Z"
    }
   },
   "outputs": [
    {
     "data": {
      "text/plain": [
       "<AxesSubplot:xlabel='region_code', ylabel='id'>"
      ]
     },
     "execution_count": 26,
     "metadata": {},
     "output_type": "execute_result"
    },
    {
     "data": {
      "image/png": "[encoded data removed]",
      "text/plain": [
       "<Figure size 1440x576 with 1 Axes>"
      ]
     },
     "metadata": {},
     "output_type": "display_data"
    }
   ],
   "source": [
    "# Region Code\n",
    "aux = df4[['id', 'region_code', 'response']].groupby( ['region_code', 'response'] ).count().reset_index()\n",
    "sns.scatterplot( x='region_code', y='id', hue='response', data=aux)"
   ]
  },
  {
   "cell_type": "code",
   "execution_count": 27,
   "id": "52d90df3",
   "metadata": {
    "ExecuteTime": {
     "end_time": "2021-12-03T15:32:43.910706Z",
     "start_time": "2021-12-03T15:32:42.465889Z"
    }
   },
   "outputs": [
    {
     "data": {
      "image/png": "[encoded data removed]",
      "text/plain": [
       "<Figure size 1440x576 with 1 Axes>"
      ]
     },
     "metadata": {},
     "output_type": "display_data"
    }
   ],
   "source": [
    "# Policy Sales Channel\n",
    "aux = df4[['policy_sales_channel', 'response']].groupby( 'policy_sales_channel').sum().reset_index()\n",
    "sns.barplot( x= 'response', y='policy_sales_channel', data=aux)\n",
    "plt.xticks( rotation=90 );\n",
    "\n",
    "\n",
    "# FAZER O GRAFICO DE BARRAS EMPILHADAS COM %  - stacked percentage bar chart python"
   ]
  },
  {
   "cell_type": "code",
   "execution_count": 28,
   "id": "657cf4ff",
   "metadata": {
    "ExecuteTime": {
     "end_time": "2021-12-03T15:32:43.926585Z",
     "start_time": "2021-12-03T15:32:43.913637Z"
    }
   },
   "outputs": [],
   "source": [
    "# Driving License\n",
    "aux = df4[['response', 'driving_license']].groupby('response').sum().reset_index()"
   ]
  },
  {
   "cell_type": "code",
   "execution_count": 29,
   "id": "3a0e3140",
   "metadata": {
    "ExecuteTime": {
     "end_time": "2021-12-03T15:32:44.076510Z",
     "start_time": "2021-12-03T15:32:43.927665Z"
    }
   },
   "outputs": [
    {
     "data": {
      "text/plain": [
       "<AxesSubplot:xlabel='response', ylabel='driving_license'>"
      ]
     },
     "execution_count": 29,
     "metadata": {},
     "output_type": "execute_result"
    },
    {
     "data": {
      "image/png": "[encoded data removed]",
      "text/plain": [
       "<Figure size 1440x576 with 1 Axes>"
      ]
     },
     "metadata": {},
     "output_type": "display_data"
    }
   ],
   "source": [
    "sns.barplot( x='response', y='driving_license', data=aux)"
   ]
  },
  {
   "cell_type": "code",
   "execution_count": 30,
   "id": "dd2706e4",
   "metadata": {
    "ExecuteTime": {
     "end_time": "2021-12-03T15:32:44.279267Z",
     "start_time": "2021-12-03T15:32:44.077791Z"
    }
   },
   "outputs": [
    {
     "data": {
      "text/plain": [
       "<AxesSubplot:xlabel='vehicle_age', ylabel='id'>"
      ]
     },
     "execution_count": 30,
     "metadata": {},
     "output_type": "execute_result"
    },
    {
     "data": {
      "image/png": "[encoded data removed]",
      "text/plain": [
       "<Figure size 1440x576 with 1 Axes>"
      ]
     },
     "metadata": {},
     "output_type": "display_data"
    }
   ],
   "source": [
    "# Vehicle Age\n",
    "aux = df4[['id','vehicle_age', 'response' ]].groupby(['response', 'vehicle_age']).count().reset_index()\n",
    "sns.barplot( x='vehicle_age', y='id', hue='response',data=aux)"
   ]
  },
  {
   "cell_type": "code",
   "execution_count": 31,
   "id": "c4932f2b",
   "metadata": {
    "ExecuteTime": {
     "end_time": "2021-12-03T15:32:44.285789Z",
     "start_time": "2021-12-03T15:32:44.280428Z"
    }
   },
   "outputs": [
    {
     "data": {
      "text/html": [
       "<div>\n",
       "<style scoped>\n",
       "    .dataframe tbody tr th:only-of-type {\n",
       "        vertical-align: middle;\n",
       "    }\n",
       "\n",
       "    .dataframe tbody tr th {\n",
       "        vertical-align: top;\n",
       "    }\n",
       "\n",
       "    .dataframe thead th {\n",
       "        text-align: right;\n",
       "    }\n",
       "</style>\n",
       "<table border=\"1\" class=\"dataframe\">\n",
       "  <thead>\n",
       "    <tr style=\"text-align: right;\">\n",
       "      <th></th>\n",
       "      <th>response</th>\n",
       "      <th>vehicle_age</th>\n",
       "      <th>id</th>\n",
       "    </tr>\n",
       "  </thead>\n",
       "  <tbody>\n",
       "    <tr>\n",
       "      <th>0</th>\n",
       "      <td>0</td>\n",
       "      <td>below_1_year</td>\n",
       "      <td>157584</td>\n",
       "    </tr>\n",
       "    <tr>\n",
       "      <th>1</th>\n",
       "      <td>0</td>\n",
       "      <td>between_1_2_year</td>\n",
       "      <td>165510</td>\n",
       "    </tr>\n",
       "    <tr>\n",
       "      <th>2</th>\n",
       "      <td>0</td>\n",
       "      <td>over_2_years</td>\n",
       "      <td>11305</td>\n",
       "    </tr>\n",
       "    <tr>\n",
       "      <th>3</th>\n",
       "      <td>1</td>\n",
       "      <td>below_1_year</td>\n",
       "      <td>7202</td>\n",
       "    </tr>\n",
       "    <tr>\n",
       "      <th>4</th>\n",
       "      <td>1</td>\n",
       "      <td>between_1_2_year</td>\n",
       "      <td>34806</td>\n",
       "    </tr>\n",
       "  </tbody>\n",
       "</table>\n",
       "</div>"
      ],
      "text/plain": [
       "   response       vehicle_age      id\n",
       "0         0      below_1_year  157584\n",
       "1         0  between_1_2_year  165510\n",
       "2         0      over_2_years   11305\n",
       "3         1      below_1_year    7202\n",
       "4         1  between_1_2_year   34806"
      ]
     },
     "execution_count": 31,
     "metadata": {},
     "output_type": "execute_result"
    }
   ],
   "source": [
    "aux.head()"
   ]
  },
  {
   "cell_type": "code",
   "execution_count": 32,
   "id": "8fe16841",
   "metadata": {
    "ExecuteTime": {
     "end_time": "2021-12-03T15:32:44.291812Z",
     "start_time": "2021-12-03T15:32:44.286839Z"
    }
   },
   "outputs": [],
   "source": [
    "# Vehicle Damage"
   ]
  },
  {
   "cell_type": "code",
   "execution_count": 33,
   "id": "748cafba",
   "metadata": {
    "ExecuteTime": {
     "end_time": "2021-12-03T15:32:44.329758Z",
     "start_time": "2021-12-03T15:32:44.292912Z"
    }
   },
   "outputs": [
    {
     "data": {
      "text/html": [
       "<div>\n",
       "<style scoped>\n",
       "    .dataframe tbody tr th:only-of-type {\n",
       "        vertical-align: middle;\n",
       "    }\n",
       "\n",
       "    .dataframe tbody tr th {\n",
       "        vertical-align: top;\n",
       "    }\n",
       "\n",
       "    .dataframe thead th {\n",
       "        text-align: right;\n",
       "    }\n",
       "</style>\n",
       "<table border=\"1\" class=\"dataframe\">\n",
       "  <thead>\n",
       "    <tr style=\"text-align: right;\">\n",
       "      <th>response</th>\n",
       "      <th>0</th>\n",
       "      <th>1</th>\n",
       "    </tr>\n",
       "    <tr>\n",
       "      <th>previously_insured</th>\n",
       "      <th></th>\n",
       "      <th></th>\n",
       "    </tr>\n",
       "  </thead>\n",
       "  <tbody>\n",
       "    <tr>\n",
       "      <th>0</th>\n",
       "      <td>0.774546</td>\n",
       "      <td>0.225454</td>\n",
       "    </tr>\n",
       "    <tr>\n",
       "      <th>1</th>\n",
       "      <td>0.999095</td>\n",
       "      <td>0.000905</td>\n",
       "    </tr>\n",
       "  </tbody>\n",
       "</table>\n",
       "</div>"
      ],
      "text/plain": [
       "response                  0        1\n",
       "previously_insured                  \n",
       "0                  0.774546 0.225454\n",
       "1                  0.999095 0.000905"
      ]
     },
     "execution_count": 33,
     "metadata": {},
     "output_type": "execute_result"
    }
   ],
   "source": [
    "# Previously Insured\n",
    "pd.crosstab( df4['previously_insured'], df4['response'] ).apply( lambda x: x / x.sum(), axis = 1)"
   ]
  },
  {
   "cell_type": "code",
   "execution_count": 34,
   "id": "6e74c49a",
   "metadata": {
    "ExecuteTime": {
     "end_time": "2021-12-03T15:32:46.325232Z",
     "start_time": "2021-12-03T15:32:44.331069Z"
    }
   },
   "outputs": [
    {
     "data": {
      "text/plain": [
       "<AxesSubplot:xlabel='annual_premium', ylabel='Count'>"
      ]
     },
     "execution_count": 34,
     "metadata": {},
     "output_type": "execute_result"
    },
    {
     "data": {
      "image/png": "[encoded data removed]",
      "text/plain": [
       "<Figure size 1440x576 with 3 Axes>"
      ]
     },
     "metadata": {},
     "output_type": "display_data"
    }
   ],
   "source": [
    "# Annual Premium\n",
    "\n",
    "plt.subplot(1, 3, 1)\n",
    "aux = df4.loc[df4['annual_premium'] < 70000]\n",
    "sns.boxplot( x='response', y='annual_premium', data=aux)\n",
    "\n",
    "\n",
    "aux = df4.loc[(df4['annual_premium'] > 10000) & (df4['annual_premium'] < 70000)]\n",
    "plt.subplot(1, 3, 2)\n",
    "aux00 = aux.loc[aux['response'] == 0, 'annual_premium']\n",
    "sns.histplot( aux00 )\n",
    "\n",
    "plt.subplot(1, 3, 3)\n",
    "aux00 = aux.loc[aux['response'] == 1, 'annual_premium']\n",
    "sns.histplot( aux00 )"
   ]
  },
  {
   "cell_type": "code",
   "execution_count": 35,
   "id": "cb46b526",
   "metadata": {
    "ExecuteTime": {
     "end_time": "2021-12-03T15:32:47.020720Z",
     "start_time": "2021-12-03T15:32:46.326429Z"
    }
   },
   "outputs": [
    {
     "data": {
      "text/plain": [
       "<AxesSubplot:xlabel='vintage', ylabel='Count'>"
      ]
     },
     "execution_count": 35,
     "metadata": {},
     "output_type": "execute_result"
    },
    {
     "data": {
      "image/png": "[encoded data removed]",
      "text/plain": [
       "<Figure size 1440x576 with 3 Axes>"
      ]
     },
     "metadata": {},
     "output_type": "display_data"
    }
   ],
   "source": [
    "# Vintage\n",
    "\n",
    "plt.subplot(1, 3, 1)\n",
    "sns.boxplot( x='response', y='vintage', data=df4)\n",
    "\n",
    "plt.subplot(1, 3, 2)\n",
    "aux00 = df4.loc[df4['response'] == 0, 'vintage']\n",
    "sns.histplot( aux00 )\n",
    "\n",
    "plt.subplot(1, 3, 3)\n",
    "aux00 = df4.loc[df4['response'] == 1, 'vintage']\n",
    "sns.histplot( aux00 )"
   ]
  },
  {
   "cell_type": "markdown",
   "id": "eca32f3c",
   "metadata": {},
   "source": [
    "# 5.0. Data preparation"
   ]
  },
  {
   "cell_type": "code",
   "execution_count": 36,
   "id": "081a97f8",
   "metadata": {
    "ExecuteTime": {
     "end_time": "2021-12-03T15:32:47.033890Z",
     "start_time": "2021-12-03T15:32:47.021812Z"
    }
   },
   "outputs": [],
   "source": [
    "df5 = df4.copy()"
   ]
  },
  {
   "cell_type": "code",
   "execution_count": 37,
   "id": "15fc1c1f",
   "metadata": {
    "ExecuteTime": {
     "end_time": "2021-12-03T15:32:47.169793Z",
     "start_time": "2021-12-03T15:32:47.034856Z"
    }
   },
   "outputs": [],
   "source": [
    "X = df4.drop( 'response', axis=1 )\n",
    "y = df4['response'].copy()\n",
    "\n",
    "x_train, x_val, y_train, y_val = ms.train_test_split( X, y, test_size=0.2 )\n",
    "\n",
    "df5 = pd.concat( [x_train, y_train], axis=1 )"
   ]
  },
  {
   "cell_type": "markdown",
   "id": "25796431",
   "metadata": {},
   "source": [
    "## 5.1. Standardization"
   ]
  },
  {
   "cell_type": "code",
   "execution_count": 38,
   "id": "a492b042",
   "metadata": {
    "ExecuteTime": {
     "end_time": "2021-12-03T15:32:47.206680Z",
     "start_time": "2021-12-03T15:32:47.171189Z"
    }
   },
   "outputs": [],
   "source": [
    "ss = pp.StandardScaler()\n",
    "\n",
    "# Annual Premium\n",
    "df5['annual_premium'] = ss.fit_transform( df5[['annual_premium']].values )"
   ]
  },
  {
   "cell_type": "markdown",
   "id": "fe77863d",
   "metadata": {},
   "source": [
    "## 5.2. Rescaling"
   ]
  },
  {
   "cell_type": "code",
   "execution_count": 39,
   "id": "2bde74d4",
   "metadata": {
    "ExecuteTime": {
     "end_time": "2021-12-03T15:32:47.224552Z",
     "start_time": "2021-12-03T15:32:47.207791Z"
    }
   },
   "outputs": [],
   "source": [
    "mms_age = pp.MinMaxScaler()\n",
    "mms_vintage = pp.MinMaxScaler()\n",
    "\n",
    "# Age\n",
    "df5['age'] = mms_age.fit_transform( df5[['age']].values )\n",
    "\n",
    "# Vintage\n",
    "df5['vintage'] = mms_vintage.fit_transform( df5[['vintage']].values )"
   ]
  },
  {
   "cell_type": "markdown",
   "id": "3a9a7d4d",
   "metadata": {},
   "source": [
    "## 5.3. Encoder"
   ]
  },
  {
   "cell_type": "markdown",
   "id": "78373c3c",
   "metadata": {},
   "source": [
    "### 5.3.1. Target Encoder"
   ]
  },
  {
   "cell_type": "code",
   "execution_count": 40,
   "id": "9d8c7371",
   "metadata": {
    "ExecuteTime": {
     "end_time": "2021-12-03T15:32:47.373571Z",
     "start_time": "2021-12-03T15:32:47.225693Z"
    }
   },
   "outputs": [],
   "source": [
    "# Target Encoder\n",
    "\n",
    "# Gender\n",
    "target_encode_gender = df5.groupby('gender')['response'].mean()\n",
    "df5['gender'] = df5['gender'].map( target_encode_gender )\n",
    "\n",
    "# Region Code\n",
    "target_encode_region_code = df5.groupby('region_code')['response'].mean()\n",
    "df5['region_code'] = df5['region_code'].map(target_encode_region_code)\n"
   ]
  },
  {
   "cell_type": "markdown",
   "id": "72b81ee3",
   "metadata": {
    "ExecuteTime": {
     "end_time": "2021-12-01T20:53:13.270793Z",
     "start_time": "2021-12-01T20:53:13.268654Z"
    }
   },
   "source": [
    "### 5.3.2. Dummies"
   ]
  },
  {
   "cell_type": "code",
   "execution_count": 41,
   "id": "e7b881d8",
   "metadata": {
    "ExecuteTime": {
     "end_time": "2021-12-03T15:32:47.413061Z",
     "start_time": "2021-12-03T15:32:47.374627Z"
    }
   },
   "outputs": [],
   "source": [
    "# Vehicle Age\n",
    "df5 = pd.get_dummies( df5, prefix='vehicle_age', columns=['vehicle_age'] )"
   ]
  },
  {
   "cell_type": "markdown",
   "id": "833b291e",
   "metadata": {},
   "source": [
    "### 5.3.3. Frequency Encoder"
   ]
  },
  {
   "cell_type": "code",
   "execution_count": 42,
   "id": "fa5113c0",
   "metadata": {
    "ExecuteTime": {
     "end_time": "2021-12-03T15:32:47.428339Z",
     "start_time": "2021-12-03T15:32:47.414173Z"
    }
   },
   "outputs": [],
   "source": [
    "# Policy Sales Channel\n",
    "fe_policy_sales_channel = df5.groupby( 'policy_sales_channel' ).size() / len(df5)\n",
    "df5['policy_sales_channel'] = df5['policy_sales_channel'].map(fe_policy_sales_channel)"
   ]
  },
  {
   "cell_type": "markdown",
   "id": "32d52c02",
   "metadata": {
    "ExecuteTime": {
     "end_time": "2021-12-01T20:49:46.573740Z",
     "start_time": "2021-12-01T20:49:46.571631Z"
    }
   },
   "source": [
    "## 5.4. Enconding Validation Data"
   ]
  },
  {
   "cell_type": "code",
   "execution_count": 43,
   "id": "58cd0f2c",
   "metadata": {
    "ExecuteTime": {
     "end_time": "2021-12-03T15:32:47.477379Z",
     "start_time": "2021-12-03T15:32:47.429386Z"
    }
   },
   "outputs": [],
   "source": [
    "# Annual Premium\n",
    "x_val['annual_premium'] = ss.fit_transform( x_val[['annual_premium']].values )\n",
    "\n",
    "# Age\n",
    "x_val['age'] = mms_age.fit_transform( x_val[['age']].values )\n",
    "\n",
    "# Vintage\n",
    "x_val['vintage'] = mms_vintage.fit_transform( x_val[['vintage']].values )\n",
    "\n",
    "# Gender\n",
    "x_val['gender'] = x_val['gender'].map( target_encode_gender )\n",
    "\n",
    "# Region Code\n",
    "x_val['region_code'] = x_val['region_code'].map( target_encode_region_code)\n",
    "\n",
    "# Vehicle Age\n",
    "x_val = pd.get_dummies( x_val, prefix='vehicle_age', columns=['vehicle_age'] )\n",
    "\n",
    "# Policy Sales Channel\n",
    "x_val['policy_sales_channel'] = x_val['policy_sales_channel'].map(fe_policy_sales_channel)\n",
    "\n",
    "# Fillna\n",
    "x_val = x_val.fillna( 0 )"
   ]
  },
  {
   "cell_type": "markdown",
   "id": "55a28970",
   "metadata": {},
   "source": [
    "# 6.0. Feature Selection"
   ]
  },
  {
   "cell_type": "markdown",
   "id": "76b7a921",
   "metadata": {},
   "source": [
    "## 6.1. Feature Importancy"
   ]
  },
  {
   "cell_type": "code",
   "execution_count": 44,
   "id": "c6bd5c22",
   "metadata": {
    "ExecuteTime": {
     "end_time": "2021-12-03T15:33:08.252372Z",
     "start_time": "2021-12-03T15:32:47.478832Z"
    }
   },
   "outputs": [
    {
     "data": {
      "text/plain": [
       "RandomForestClassifier(n_estimators=250, n_jobs=-1, random_state=0)"
      ]
     },
     "execution_count": 44,
     "metadata": {},
     "output_type": "execute_result"
    }
   ],
   "source": [
    "# model_definition\n",
    "forest = en.RandomForestClassifier( n_estimators=250, random_state=0, n_jobs=-1 )\n",
    "\n",
    "# Data Preparation\n",
    "x_train_n = df5.drop( ['id', 'response'], axis=1 )\n",
    "y_train_n = y_train.values\n",
    "forest.fit( x_train_n, y_train_n )"
   ]
  },
  {
   "cell_type": "code",
   "execution_count": 45,
   "id": "462742ab",
   "metadata": {
    "ExecuteTime": {
     "end_time": "2021-12-03T15:33:08.717340Z",
     "start_time": "2021-12-03T15:33:08.253981Z"
    }
   },
   "outputs": [
    {
     "name": "stdout",
     "output_type": "stream",
     "text": [
      "Feature Ranking:\n",
      "                        feature  importance\n",
      "0                       vintage    0.281093\n",
      "0                annual_premium    0.252908\n",
      "0                           age    0.147616\n",
      "0                   region_code    0.096700\n",
      "0                vehicle_damage    0.072802\n",
      "0          policy_sales_channel    0.070406\n",
      "0            previously_insured    0.048624\n",
      "0      vehicle_age_below_1_year    0.012956\n",
      "0                        gender    0.009581\n",
      "0  vehicle_age_between_1_2_year    0.004744\n",
      "0      vehicle_age_over_2_years    0.002053\n",
      "0               driving_license    0.000518\n"
     ]
    },
    {
     "data": {
      "image/png": "[encoded data removed]",
      "text/plain": [
       "<Figure size 1440x576 with 1 Axes>"
      ]
     },
     "metadata": {},
     "output_type": "display_data"
    }
   ],
   "source": [
    "importances = forest.feature_importances_\n",
    "std = np.std( [tree.feature_importances_ for tree in forest.estimators_], axis=0 )\n",
    "indices = np.argsort( importances )[::-1]\n",
    "\n",
    "# Print the feature ranking\n",
    "print(\"Feature Ranking:\")\n",
    "df = pd.DataFrame()\n",
    "for i, j in zip( x_train_n, forest.feature_importances_ ):\n",
    "    aux = pd.DataFrame( {'feature': i, 'importance': j}, index=[0])\n",
    "    df = pd.concat( [df, aux], axis=0 )\n",
    "    \n",
    "print( df.sort_values( 'importance', ascending=False ) )\n",
    "\n",
    "# Plot\n",
    "plt.figure()\n",
    "plt.title(\"Feature Importances\")\n",
    "plt.bar(range(x_train_n.shape[1]), importances[indices], color=\"r\", yerr=std[indices], align=\"center\" )\n",
    "plt.xticks(range(x_train_n.shape[1]), indices )\n",
    "plt.xlim([-1, x_train_n.shape[1]])\n",
    "plt.show()\n"
   ]
  },
  {
   "cell_type": "markdown",
   "id": "917834e5",
   "metadata": {},
   "source": [
    "# 7.0. Machine Learning Model"
   ]
  },
  {
   "cell_type": "code",
   "execution_count": 46,
   "id": "69b2b74b",
   "metadata": {
    "ExecuteTime": {
     "end_time": "2021-12-03T15:33:08.730521Z",
     "start_time": "2021-12-03T15:33:08.718424Z"
    }
   },
   "outputs": [],
   "source": [
    "cols_selected = ['vintage', 'annual_premium', 'age', 'region_code', 'vehicle_damage', 'policy_sales_channel', 'previously_insured']\n",
    "\n",
    "x_train = df5[cols_selected]\n",
    "x_val = x_val[cols_selected]"
   ]
  },
  {
   "cell_type": "markdown",
   "id": "3c7c48b9",
   "metadata": {},
   "source": [
    "## 7.1. KNN"
   ]
  },
  {
   "cell_type": "code",
   "execution_count": 47,
   "id": "86b2fa34",
   "metadata": {
    "ExecuteTime": {
     "end_time": "2021-12-03T15:33:14.770500Z",
     "start_time": "2021-12-03T15:33:08.731617Z"
    }
   },
   "outputs": [],
   "source": [
    "# Model Definition\n",
    "knn_model = nh.KNeighborsClassifier( n_neighbors=6 )\n",
    "\n",
    "# Model Training\n",
    "knn_model.fit( x_train, y_train )\n",
    "\n",
    "# Model Prediction - Poder de Generalização\n",
    "yhat_knn = knn_model.predict_proba( x_val )"
   ]
  },
  {
   "cell_type": "code",
   "execution_count": 48,
   "id": "b6abc1c9",
   "metadata": {
    "ExecuteTime": {
     "end_time": "2021-12-03T15:33:15.007752Z",
     "start_time": "2021-12-03T15:33:14.771633Z"
    }
   },
   "outputs": [
    {
     "data": {
      "image/png": "[encoded data removed]",
      "text/plain": [
       "<Figure size 1440x576 with 1 Axes>"
      ]
     },
     "metadata": {},
     "output_type": "display_data"
    }
   ],
   "source": [
    "# Accumulative Gain\n",
    "skplt.metrics.plot_cumulative_gain( y_val, yhat_knn );"
   ]
  },
  {
   "cell_type": "code",
   "execution_count": null,
   "id": "4044f6d0",
   "metadata": {},
   "outputs": [],
   "source": []
  },
  {
   "cell_type": "code",
   "execution_count": null,
   "id": "fdba2f45",
   "metadata": {},
   "outputs": [],
   "source": []
  },
  {
   "cell_type": "code",
   "execution_count": null,
   "id": "0ad021f5",
   "metadata": {},
   "outputs": [],
   "source": []
  },
  {
   "cell_type": "code",
   "execution_count": null,
   "id": "f2e96ebe",
   "metadata": {},
   "outputs": [],
   "source": []
  },
  {
   "cell_type": "code",
   "execution_count": null,
   "id": "dbe42f49",
   "metadata": {},
   "outputs": [],
   "source": []
  },
  {
   "cell_type": "code",
   "execution_count": null,
   "id": "02e970f9",
   "metadata": {},
   "outputs": [],
   "source": []
  },
  {
   "cell_type": "code",
   "execution_count": null,
   "id": "e59d38bc",
   "metadata": {},
   "outputs": [],
   "source": []
  },
  {
   "cell_type": "code",
   "execution_count": null,
   "id": "3ffff3b9",
   "metadata": {},
   "outputs": [],
   "source": []
  },
  {
   "cell_type": "code",
   "execution_count": null,
   "id": "c1a881fb",
   "metadata": {},
   "outputs": [],
   "source": []
  }
 ],
 "metadata": {
  "kernelspec": {
   "display_name": "Python 3 (ipykernel)",
   "language": "python",
   "name": "python3"
  },
  "language_info": {
   "codemirror_mode": {
    "name": "ipython",
    "version": 3
   },
   "file_extension": ".py",
   "mimetype": "text/x-python",
   "name": "python",
   "nbconvert_exporter": "python",
   "pygments_lexer": "ipython3",
   "version": "3.9.2"
  }
 },
 "nbformat": 4,
 "nbformat_minor": 5
}
